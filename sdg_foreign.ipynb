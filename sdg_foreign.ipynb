{
 "cells": [
  {
   "cell_type": "code",
   "execution_count": 1,
   "id": "de9f8553-57b2-47c9-88e6-731e349e0032",
   "metadata": {
    "tags": []
   },
   "outputs": [],
   "source": [
    "\n",
    "import bigframes.pandas as bpd\n",
    "bpd.options.bigquery.project = \"ml-product-study\""
   ]
  },
  {
   "cell_type": "code",
   "execution_count": 2,
   "id": "ababe10f-56a3-4249-8b83-5b5878351318",
   "metadata": {
    "tags": []
   },
   "outputs": [
    {
     "name": "stderr",
     "output_type": "stream",
     "text": [
      "/home/jupyter/.local/lib/python3.10/site-packages/bigframes/pandas/__init__.py:856: DefaultLocationWarning: No explicit location is set, so using location US for the session.\n",
      "  return global_session.get_global_session()\n"
     ]
    },
    {
     "data": {
      "text/html": [
       "Query job 858bdd6f-0a7d-4a8c-ba22-477028940b09 is DONE. 0 Bytes processed. <a target=\"_blank\" href=\"https://console.cloud.google.com/bigquery?project=ml-product-study&j=bq:US:858bdd6f-0a7d-4a8c-ba22-477028940b09&page=queryresults\">Open Job</a>"
      ],
      "text/plain": [
       "<IPython.core.display.HTML object>"
      ]
     },
     "metadata": {},
     "output_type": "display_data"
    }
   ],
   "source": [
    "from bigframes.ml.llm import GeminiTextGenerator\n",
    "\n",
    "model = GeminiTextGenerator()"
   ]
  },
  {
   "cell_type": "code",
   "execution_count": 3,
   "id": "ec5162c0-f8bc-460f-9aed-0c967b74e7aa",
   "metadata": {
    "tags": []
   },
   "outputs": [],
   "source": [
    "# Define schema for the 'customers' table\n",
    "customers_schema = \"\"\"\n",
    "Column name: customer_id, type: int, Description: Unique identifier for each customer\n",
    "Column name: Name, type: string, Description: Customer's full name\n",
    "Column name: Email, type: string, Description: Customer's email address\n",
    "\"\"\"\n",
    "\n",
    "# Define schema for the 'orders' table\n",
    "orders_schema = \"\"\"\n",
    "Column name: order_id, type: int, Description: Unique identifier for each order\n",
    "Column name: customer_id, type: int, Description: Foreign key referencing the 'customers' table\n",
    "Column name: order_date, type: string, Description: Date of the order\n",
    "Column name: order_amount, type: float, Description: Total amount of the order\n",
    "\"\"\"\n",
    "\n",
    "# Generate synthetic data for the 'customers' table\n",
    "prompt_customers = f\"\"\"\n",
    "Write python code to generate a pandas dataframe based on the requirements:\n",
    "{customers_schema}\n",
    "\n",
    "Note:\n",
    "  - Return the code only, no additional texts or comments\n",
    "  - Use faker library\n",
    "  - Generate 100 rows\n",
    "  - The final dataframe should be named 'customers_df'.\n",
    "\"\"\"\n",
    "\n",
    "df_prompt_customers = bpd.DataFrame({\"prompt\": [prompt_customers]})"
   ]
  },
  {
   "cell_type": "code",
   "execution_count": 4,
   "id": "14a89125-9dbb-422f-a4e4-3d3d9c95f2c3",
   "metadata": {
    "tags": []
   },
   "outputs": [
    {
     "data": {
      "text/html": [
       "Query job 91863286-a573-4c26-a18f-ad8aafbf20f9 is DONE. 0 Bytes processed. <a target=\"_blank\" href=\"https://console.cloud.google.com/bigquery?project=ml-product-study&j=bq:US:91863286-a573-4c26-a18f-ad8aafbf20f9&page=queryresults\">Open Job</a>"
      ],
      "text/plain": [
       "<IPython.core.display.HTML object>"
      ]
     },
     "metadata": {},
     "output_type": "display_data"
    },
    {
     "name": "stderr",
     "output_type": "stream",
     "text": [
      "/home/jupyter/.local/lib/python3.10/site-packages/bigframes/core/__init__.py:92: PreviewWarning: Interpreting JSON column(s) as StringDtype. This behavior may change in future versions.\n",
      "  warnings.warn(\n"
     ]
    },
    {
     "data": {
      "text/html": [
       "Query job 7022dfe2-e5b9-43a4-8fd0-943790cff522 is DONE. 2 Bytes processed. <a target=\"_blank\" href=\"https://console.cloud.google.com/bigquery?project=ml-product-study&j=bq:US:7022dfe2-e5b9-43a4-8fd0-943790cff522&page=queryresults\">Open Job</a>"
      ],
      "text/plain": [
       "<IPython.core.display.HTML object>"
      ]
     },
     "metadata": {},
     "output_type": "display_data"
    },
    {
     "data": {
      "text/html": [
       "Query job ee5df01f-5269-4227-b2b2-c65b2e845b69 is DONE. 441 Bytes processed. <a target=\"_blank\" href=\"https://console.cloud.google.com/bigquery?project=ml-product-study&j=bq:US:ee5df01f-5269-4227-b2b2-c65b2e845b69&page=queryresults\">Open Job</a>"
      ],
      "text/plain": [
       "<IPython.core.display.HTML object>"
      ]
     },
     "metadata": {},
     "output_type": "display_data"
    },
    {
     "name": "stdout",
     "output_type": "stream",
     "text": [
      "\n",
      "import pandas as pd\n",
      "from faker import Faker\n",
      "\n",
      "# Create a faker instance\n",
      "fake = Faker()\n",
      "\n",
      "# Generate customer data\n",
      "customer_id = [i for i in range(1, 101)]\n",
      "names = [fake.name() for _ in range(100)]\n",
      "emails = [fake.email() for _ in range(100)]\n",
      "\n",
      "# Create the pandas dataframe\n",
      "customers_df = pd.DataFrame({\n",
      "    'customer_id': customer_id,\n",
      "    'Name': names,\n",
      "    'Email': emails\n",
      "})\n",
      "\n",
      "# Print the dataframe\n",
      "print(customers_df)\n",
      "`\n",
      "invalid syntax (<string>, line 22)\n"
     ]
    },
    {
     "data": {
      "text/html": [
       "Query job cf815322-0807-461c-87f5-c56b417d1dbd is DONE. 0 Bytes processed. <a target=\"_blank\" href=\"https://console.cloud.google.com/bigquery?project=ml-product-study&j=bq:US:cf815322-0807-461c-87f5-c56b417d1dbd&page=queryresults\">Open Job</a>"
      ],
      "text/plain": [
       "<IPython.core.display.HTML object>"
      ]
     },
     "metadata": {},
     "output_type": "display_data"
    },
    {
     "name": "stderr",
     "output_type": "stream",
     "text": [
      "/home/jupyter/.local/lib/python3.10/site-packages/bigframes/core/__init__.py:92: PreviewWarning: Interpreting JSON column(s) as StringDtype. This behavior may change in future versions.\n",
      "  warnings.warn(\n"
     ]
    },
    {
     "data": {
      "text/html": [
       "Query job 789ae922-20b4-4924-8c15-eac0772f3c08 is DONE. 2 Bytes processed. <a target=\"_blank\" href=\"https://console.cloud.google.com/bigquery?project=ml-product-study&j=bq:US:789ae922-20b4-4924-8c15-eac0772f3c08&page=queryresults\">Open Job</a>"
      ],
      "text/plain": [
       "<IPython.core.display.HTML object>"
      ]
     },
     "metadata": {},
     "output_type": "display_data"
    },
    {
     "data": {
      "text/html": [
       "Query job 70c59059-2a3f-4d91-930b-fb7fb13b828b is DONE. 479 Bytes processed. <a target=\"_blank\" href=\"https://console.cloud.google.com/bigquery?project=ml-product-study&j=bq:US:70c59059-2a3f-4d91-930b-fb7fb13b828b&page=queryresults\">Open Job</a>"
      ],
      "text/plain": [
       "<IPython.core.display.HTML object>"
      ]
     },
     "metadata": {},
     "output_type": "display_data"
    },
    {
     "name": "stdout",
     "output_type": "stream",
     "text": [
      "\n",
      "import pandas as pd\n",
      "from faker import Faker\n",
      "\n",
      "# Create a Faker instance\n",
      "fake = Faker()\n",
      "\n",
      "# Generate customer data\n",
      "data = [\n",
      "    {\n",
      "        \"customer_id\": i,\n",
      "        \"Name\": fake.name(),\n",
      "        \"Email\": fake.email(),\n",
      "    }\n",
      "    for i in range(1, 101)\n",
      "]\n",
      "\n",
      "# Create the pandas dataframe\n",
      "customers_df = pd.DataFrame(data)\n",
      "\n",
      "# Set column types\n",
      "customers_df = customers_df.astype(\n",
      "    {\"customer_id\": \"int\", \"Name\": \"string\", \"Email\": \"string\"}\n",
      ")\n",
      "\n",
      "print(customers_df)\n",
      "\n",
      "    customer_id                 Name                        Email\n",
      "0             1         Raymond Ford           rjones@example.org\n",
      "1             2         Bradley Bell           eric58@example.org\n",
      "2             3    Stephanie Maxwell         khanjuan@example.com\n",
      "3             4           Paul Allen  anthonymartinez@example.net\n",
      "4             5  Christopher Stewart        richard04@example.com\n",
      "..          ...                  ...                          ...\n",
      "95           96      Nicole Bradford        yanderson@example.org\n",
      "96           97         Shawn Gibson          david50@example.com\n",
      "97           98         Charles Todd         steven04@example.org\n",
      "98           99         Belinda King        natalie89@example.com\n",
      "99          100          Kim Bernard     rebeccabrown@example.com\n",
      "\n",
      "[100 rows x 3 columns]\n",
      "    customer_id               Name                       Email\n",
      "0             1      Allison Baird    rebekahfloyd@example.org\n",
      "1             2     Cesar Mitchell          esmith@example.com\n",
      "2             3  Courtney Mcdonald     aarondavies@example.net\n",
      "3             4        Sherri Cobb          hlopez@example.net\n",
      "4             5  Gregory Zimmerman  caitlinelliott@example.com\n",
      "..          ...                ...                         ...\n",
      "95           96      Stanley Smith         pwarner@example.org\n",
      "96           97      Sarah Mcclain   torresmichael@example.com\n",
      "97           98     Charles Rivera       william19@example.com\n",
      "98           99   Melissa Gonzalez     aliciagates@example.com\n",
      "99          100         Jenna Long      victoria58@example.net\n",
      "\n",
      "[100 rows x 3 columns]\n"
     ]
    }
   ],
   "source": [
    "max_tries = 5\n",
    "for i in range(max_tries):\n",
    "    # Get LLM generated code for 'customers' table\n",
    "    df_result_customers = model.predict(df_prompt_customers)\n",
    "    llm_result_customers = df_result_customers['ml_generate_text_llm_result'].iloc[0]\n",
    "\n",
    "    # Python code comes back as a markdown code block,\n",
    "    # remove the prefix \"```python\" and suffix \"```\"\n",
    "    code_customers = llm_result_customers[9:-3]\n",
    "    print(code_customers)\n",
    "\n",
    "    # Check if the generated code is runnable\n",
    "    try:\n",
    "        exec(code_customers)\n",
    "        break\n",
    "    except Exception as ex:\n",
    "        print(ex)\n",
    "        error_context = f\"\"\"\n",
    "Previous code:\n",
    "{code_customers}\n",
    "\n",
    "Had this exception:\n",
    "{ex}\"\"\"\n",
    "\n",
    "        # Update the prompt to help LLM correct error\n",
    "        df_prompt_customers[\"prompt\"] += error_context\n",
    "\n",
    "        # If we have exhausted max tries then stop trying\n",
    "        if i + 1 == max_tries:\n",
    "            raise Exception(\"Failed to generate runnable code for 'customers' table\")\n",
    "\n",
    "execution_context_customers = {}\n",
    "exec(code_customers, execution_context_customers)\n",
    "customers_df = execution_context_customers.get(\"customers_df\")"
   ]
  },
  {
   "cell_type": "code",
   "execution_count": 5,
   "id": "1aa907fb-cc72-4b22-a4d4-a46ec5fd9857",
   "metadata": {
    "tags": []
   },
   "outputs": [
    {
     "data": {
      "text/html": [
       "Query job b367a660-02f5-4859-bf59-0145e7db5f5d is DONE. 0 Bytes processed. <a target=\"_blank\" href=\"https://console.cloud.google.com/bigquery?project=ml-product-study&j=bq:US:b367a660-02f5-4859-bf59-0145e7db5f5d&page=queryresults\">Open Job</a>"
      ],
      "text/plain": [
       "<IPython.core.display.HTML object>"
      ]
     },
     "metadata": {},
     "output_type": "display_data"
    },
    {
     "name": "stderr",
     "output_type": "stream",
     "text": [
      "/home/jupyter/.local/lib/python3.10/site-packages/bigframes/core/__init__.py:92: PreviewWarning: Interpreting JSON column(s) as StringDtype. This behavior may change in future versions.\n",
      "  warnings.warn(\n"
     ]
    },
    {
     "data": {
      "text/html": [
       "Query job c4f19197-cdab-4e9d-ae09-13c5ed5a3443 is DONE. 2 Bytes processed. <a target=\"_blank\" href=\"https://console.cloud.google.com/bigquery?project=ml-product-study&j=bq:US:c4f19197-cdab-4e9d-ae09-13c5ed5a3443&page=queryresults\">Open Job</a>"
      ],
      "text/plain": [
       "<IPython.core.display.HTML object>"
      ]
     },
     "metadata": {},
     "output_type": "display_data"
    },
    {
     "data": {
      "text/html": [
       "Query job c413f209-4996-4b09-b48f-3820a6108d34 is DONE. 787 Bytes processed. <a target=\"_blank\" href=\"https://console.cloud.google.com/bigquery?project=ml-product-study&j=bq:US:c413f209-4996-4b09-b48f-3820a6108d34&page=queryresults\">Open Job</a>"
      ],
      "text/plain": [
       "<IPython.core.display.HTML object>"
      ]
     },
     "metadata": {},
     "output_type": "display_data"
    },
    {
     "name": "stdout",
     "output_type": "stream",
     "text": [
      "\n",
      "import pandas as pd\n",
      "from faker import Faker\n",
      "\n",
      "fake = Faker()\n",
      "\n",
      "# Generate fake data for the dataframe\n",
      "data = [\n",
      "    {\n",
      "        \"order_id\": fake.unique.random_int(min=1, max=10000),\n",
      "        \"customer_id\": fake.random.choice(customers_df[\"customer_id\"].tolist()),\n",
      "        \"order_date\": fake.date(),\n",
      "        \"order_amount\": fake.pydecimal.Decimal(min_value=100, max_value=10000),\n",
      "    }\n",
      "    for _ in range(100)\n",
      "]\n",
      "\n",
      "# Create a pandas dataframe\n",
      "orders_df = pd.DataFrame(data)\n",
      "\n",
      "# Set the data types for the columns\n",
      "orders_df[\"order_id\"] = orders_df[\"order_id\"].astype(\"int\")\n",
      "orders_df[\"customer_id\"] = orders_df[\"customer_id\"].astype(\"int\")\n",
      "orders_df[\"order_date\"] = pd.to_datetime(orders_df[\"order_date\"])\n",
      "orders_df[\"order_amount\"] = pd.to_numeric(orders_df[\"order_amount\"])\n",
      "\n",
      "'function' object has no attribute 'Decimal'\n"
     ]
    },
    {
     "data": {
      "text/html": [
       "Query job f8e576d7-8aa7-4f4f-bd07-5e64a2dee247 is DONE. 0 Bytes processed. <a target=\"_blank\" href=\"https://console.cloud.google.com/bigquery?project=ml-product-study&j=bq:US:f8e576d7-8aa7-4f4f-bd07-5e64a2dee247&page=queryresults\">Open Job</a>"
      ],
      "text/plain": [
       "<IPython.core.display.HTML object>"
      ]
     },
     "metadata": {},
     "output_type": "display_data"
    },
    {
     "name": "stderr",
     "output_type": "stream",
     "text": [
      "/home/jupyter/.local/lib/python3.10/site-packages/bigframes/core/__init__.py:92: PreviewWarning: Interpreting JSON column(s) as StringDtype. This behavior may change in future versions.\n",
      "  warnings.warn(\n"
     ]
    },
    {
     "data": {
      "text/html": [
       "Query job d97ce973-f552-4ab2-b56b-d293baae39ea is DONE. 2 Bytes processed. <a target=\"_blank\" href=\"https://console.cloud.google.com/bigquery?project=ml-product-study&j=bq:US:d97ce973-f552-4ab2-b56b-d293baae39ea&page=queryresults\">Open Job</a>"
      ],
      "text/plain": [
       "<IPython.core.display.HTML object>"
      ]
     },
     "metadata": {},
     "output_type": "display_data"
    },
    {
     "data": {
      "text/html": [
       "Query job 22e9f4d2-5a0a-4b18-9739-86bd0dad7628 is DONE. 777 Bytes processed. <a target=\"_blank\" href=\"https://console.cloud.google.com/bigquery?project=ml-product-study&j=bq:US:22e9f4d2-5a0a-4b18-9739-86bd0dad7628&page=queryresults\">Open Job</a>"
      ],
      "text/plain": [
       "<IPython.core.display.HTML object>"
      ]
     },
     "metadata": {},
     "output_type": "display_data"
    },
    {
     "name": "stdout",
     "output_type": "stream",
     "text": [
      "\n",
      "import pandas as pd\n",
      "from faker import Faker\n",
      "\n",
      "fake = Faker()\n",
      "\n",
      "# Generate fake data for the dataframe\n",
      "data = [\n",
      "    {\n",
      "        \"order_id\": fake.unique.random_int(min=1, max=10000),\n",
      "        \"customer_id\": fake.random.choice(customers_df[\"customer_id\"].tolist()),\n",
      "        \"order_date\": fake.date(),\n",
      "        \"order_amount\": fake.pyfloat(min_value=100, max_value=10000),\n",
      "    }\n",
      "    for _ in range(100)\n",
      "]\n",
      "\n",
      "# Create a pandas dataframe\n",
      "orders_df = pd.DataFrame(data)\n",
      "\n",
      "# Set the data types for the columns\n",
      "orders_df[\"order_id\"] = orders_df[\"order_id\"].astype(\"int\")\n",
      "orders_df[\"customer_id\"] = orders_df[\"customer_id\"].astype(\"int\")\n",
      "orders_df[\"order_date\"] = pd.to_datetime(orders_df[\"order_date\"])\n",
      "orders_df[\"order_amount\"] = pd.to_numeric(orders_df[\"order_amount\"])\n",
      "\n"
     ]
    }
   ],
   "source": [
    "# Generate synthetic data for the 'orders' table\n",
    "prompt_orders = f\"\"\"\n",
    "Write python code to generate a pandas dataframe based on the requirements:\n",
    "{orders_schema}\n",
    "\n",
    "Note:\n",
    "  - Return the code only, no additional texts or comments\n",
    "  - Use faker library\n",
    "  - Generate 100 rows\n",
    "  - The final dataframe should be named 'orders_df'.\n",
    "  - The 'customer_id' column should reference existing customer IDs from the 'customers_df' dataframe.\n",
    "\"\"\"\n",
    "\n",
    "df_prompt_orders = bpd.DataFrame({\"prompt\": [prompt_orders]})\n",
    "\n",
    "max_tries = 5\n",
    "for i in range(max_tries):\n",
    "    # Get LLM generated code for 'orders' table\n",
    "    df_result_orders = model.predict(df_prompt_orders)\n",
    "    llm_result_orders = df_result_orders['ml_generate_text_llm_result'].iloc[0]\n",
    "\n",
    "    # Python code comes back as a markdown code block,\n",
    "    # remove the prefix \"```python\" and suffix \"```\"\n",
    "    code_orders = llm_result_orders[9:-3]\n",
    "    print(code_orders)\n",
    "\n",
    "    # Check if the generated code is runnable\n",
    "    try:\n",
    "        # Make 'customers_df' available in the execution context for 'orders' table generation\n",
    "        execution_context_orders = {\"customers_df\": customers_df}\n",
    "        exec(code_orders, execution_context_orders)\n",
    "        break\n",
    "    except Exception as ex:\n",
    "        print(ex)\n",
    "        error_context = f\"\"\"\n",
    "Previous code:\n",
    "{code_orders}\n",
    "\n",
    "Had this exception:\n",
    "{ex}\"\"\"\n",
    "\n",
    "        # Update the prompt to help LLM correct error\n",
    "        df_prompt_orders[\"prompt\"] += error_context\n",
    "\n",
    "        # If we have exhausted max tries then stop trying\n",
    "        if i + 1 == max_tries:\n",
    "            raise Exception(\"Failed to generate runnable code for 'orders' table\")\n",
    "\n",
    "orders_df = execution_context_orders.get(\"orders_df\")\n"
   ]
  },
  {
   "cell_type": "code",
   "execution_count": 6,
   "id": "847405ae-e3c1-4bba-8122-1a431f959103",
   "metadata": {
    "tags": []
   },
   "outputs": [
    {
     "name": "stdout",
     "output_type": "stream",
     "text": [
      "Customers DataFrame:\n",
      "    customer_id               Name                       Email\n",
      "0             1      Allison Baird    rebekahfloyd@example.org\n",
      "1             2     Cesar Mitchell          esmith@example.com\n",
      "2             3  Courtney Mcdonald     aarondavies@example.net\n",
      "3             4        Sherri Cobb          hlopez@example.net\n",
      "4             5  Gregory Zimmerman  caitlinelliott@example.com\n",
      "..          ...                ...                         ...\n",
      "95           96      Stanley Smith         pwarner@example.org\n",
      "96           97      Sarah Mcclain   torresmichael@example.com\n",
      "97           98     Charles Rivera       william19@example.com\n",
      "98           99   Melissa Gonzalez     aliciagates@example.com\n",
      "99          100         Jenna Long      victoria58@example.net\n",
      "\n",
      "[100 rows x 3 columns]\n",
      "\n",
      "Orders DataFrame:\n",
      "    order_id  customer_id order_date  order_amount\n",
      "0        628           98 2013-08-31   4268.351124\n",
      "1       1957           37 2003-04-17   4692.799000\n",
      "2       1736           16 2012-11-16   9480.167359\n",
      "3        777           94 2014-08-29   8843.720000\n",
      "4       4697           72 2020-04-23   6734.410534\n",
      "..       ...          ...        ...           ...\n",
      "95      1642           70 2006-03-17   7475.662722\n",
      "96      3374           40 2012-09-01   6696.138599\n",
      "97      9321           74 1976-12-24   8730.249160\n",
      "98      5591           61 2020-11-18   2199.141728\n",
      "99      1262           24 1986-04-12   7668.490363\n",
      "\n",
      "[100 rows x 4 columns]\n"
     ]
    }
   ],
   "source": [
    "# Print the generated dataframes\n",
    "print(\"Customers DataFrame:\")\n",
    "print(customers_df)\n",
    "\n",
    "print(\"\\nOrders DataFrame:\")\n",
    "print(orders_df)"
   ]
  },
  {
   "cell_type": "code",
   "execution_count": null,
   "id": "c98420e6-3922-4e07-9e76-a10c32178268",
   "metadata": {},
   "outputs": [],
   "source": []
  }
 ],
 "metadata": {
  "environment": {
   "kernel": "conda-base-py",
   "name": "workbench-notebooks.m124",
   "type": "gcloud",
   "uri": "us-docker.pkg.dev/deeplearning-platform-release/gcr.io/workbench-notebooks:m124"
  },
  "kernelspec": {
   "display_name": "Python 3 (ipykernel) (Local)",
   "language": "python",
   "name": "conda-base-py"
  },
  "language_info": {
   "codemirror_mode": {
    "name": "ipython",
    "version": 3
   },
   "file_extension": ".py",
   "mimetype": "text/x-python",
   "name": "python",
   "nbconvert_exporter": "python",
   "pygments_lexer": "ipython3",
   "version": "3.10.14"
  }
 },
 "nbformat": 4,
 "nbformat_minor": 5
}
